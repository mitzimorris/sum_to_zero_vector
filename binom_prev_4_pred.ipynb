{
 "cells": [
  {
   "cell_type": "markdown",
   "id": "b050158a-eca6-4fd8-9c29-2bfd55605cc7",
   "metadata": {},
   "source": [
    "# Sum to zero comparison, multi-level binomial model, 4 categorical predictors, predictors have per-category intercept."
   ]
  },
  {
   "cell_type": "code",
   "execution_count": null,
   "id": "41425c9a-c615-4ee0-995d-6293173552ff",
   "metadata": {},
   "outputs": [],
   "source": [
    "import os\n",
    "import numpy as np\n",
    "import pandas as pd\n",
    "import matplotlib.pyplot as plt\n",
    "import plotnine as p9\n",
    "from random import randint\n",
    "\n",
    "from cmdstanpy import CmdStanModel, write_stan_json, install_cmdstan, rebuild_cmdstan"
   ]
  },
  {
   "cell_type": "code",
   "execution_count": null,
   "id": "6eaf948e-14e9-4b2f-bf13-31d657ee2966",
   "metadata": {},
   "outputs": [],
   "source": [
    "# notebook display options\n",
    "np.set_printoptions(precision=2)\n",
    "np.set_printoptions(suppress=True)\n",
    "pd.set_option('display.precision', 2)\n",
    "pd.options.display.float_format = '{:.2f}'.format\n",
    "\n",
    "# suppress plotnine warnings\n",
    "import warnings\n",
    "warnings.filterwarnings('ignore')\n",
    "# setup plotnine look and feel\n",
    "p9.theme_set(\n",
    "  p9.theme_grey() + \n",
    "  p9.theme(text=p9.element_text(size=10),\n",
    "        plot_title=p9.element_text(size=14),\n",
    "        axis_title_x=p9.element_text(size=12),\n",
    "        axis_title_y=p9.element_text(size=12),\n",
    "        axis_text_x=p9.element_text(size=8),\n",
    "        axis_text_y=p9.element_text(size=8)\n",
    "       )\n",
    ")\n",
    "xlabels_90 = p9.theme(axis_text_x = p9.element_text(angle=90, hjust=1))"
   ]
  },
  {
   "cell_type": "markdown",
   "id": "22cb081d-6354-4f65-958c-f6f703503344",
   "metadata": {},
   "source": [
    "## The data generating model"
   ]
  },
  {
   "cell_type": "markdown",
   "id": "1f33950b-0a22-4a7f-a59f-296940ce8aff",
   "metadata": {},
   "source": [
    "Instantiate the data generating model."
   ]
  },
  {
   "cell_type": "code",
   "execution_count": null,
   "id": "33d66163-d482-4c59-b84c-3b91c0b4164b",
   "metadata": {},
   "outputs": [],
   "source": [
    "gen_mod = CmdStanModel(stan_file=os.path.join('stan', \n",
    "                                              'gen_binomial_4_preds.stan'))"
   ]
  },
  {
   "cell_type": "markdown",
   "id": "586c91b8-b7ba-4bf3-9cae-636f23b87f46",
   "metadata": {},
   "source": [
    "Choose total number of observations and number of categories for age, eth, and edu."
   ]
  },
  {
   "cell_type": "code",
   "execution_count": null,
   "id": "6a2180b7-4d3b-4775-b63d-d0ce9e30824e",
   "metadata": {},
   "outputs": [],
   "source": [
    "gen_data_dict = {'N':100_000,\n",
    "                 'N_age':9,\n",
    "                 'N_eth':3,\n",
    "                 'N_edu':7,\n",
    "                'baseline': -4.9,\n",
    "                'sens': 0.75,\n",
    "                'spec': 0.9995}\n",
    "print(\"total strata\",\n",
    "      (2 * gen_data_dict['N_age'] * gen_data_dict['N_eth'] * gen_data_dict['N_edu']))"
   ]
  },
  {
   "cell_type": "markdown",
   "id": "0b99d0f7-146f-4ef8-90f5-dac0ac949109",
   "metadata": {},
   "source": [
    "Only need to run for 1 sampling iteration to get a complete dataset."
   ]
  },
  {
   "cell_type": "code",
   "execution_count": null,
   "id": "86ba63a4-82a5-41a1-8239-68da51c0aeff",
   "metadata": {},
   "outputs": [],
   "source": [
    "sim_data = gen_mod.sample(data=gen_data_dict,\n",
    "                          iter_warmup=1, iter_sampling=1, chains=1)"
   ]
  },
  {
   "cell_type": "markdown",
   "id": "40ffae1d-5a88-4d12-8061-efce8eb399e4",
   "metadata": {},
   "source": [
    "Examine the set of generated data-generating params and resulting dataset."
   ]
  },
  {
   "cell_type": "code",
   "execution_count": null,
   "id": "79116c1e-cf36-49e5-b73b-c241b51297db",
   "metadata": {
    "scrolled": true
   },
   "outputs": [],
   "source": [
    "for var, value in sim_data.stan_variables().items():\n",
    "    print(var, value[0])  # draws array contains single draw"
   ]
  },
  {
   "cell_type": "code",
   "execution_count": null,
   "id": "0ac91727-9759-47bc-81f3-1fa31e1564f7",
   "metadata": {},
   "outputs": [],
   "source": [
    "sim_df = pd.DataFrame({'tests':sim_data.tests[0], 'pos_tests':sim_data.pos_tests[0], 'p_sample':sim_data.p_sample[0] })\n",
    "sim_df['raw_prev'] = sim_df['pos_tests'] / sim_df['tests']\n",
    "(\n",
    "    p9.ggplot(sim_df, p9.aes(x='p_sample'))\n",
    "    + p9.geom_density(color='black', fill='lightblue')\n",
    "    + p9.labs(\n",
    "        x='true prevalance',\n",
    "        y='',\n",
    "        title='true prevalence given test sensitivity, specificity across demographics'\n",
    "    )\n",
    "    + p9.theme_minimal()\n",
    ")"
   ]
  },
  {
   "cell_type": "code",
   "execution_count": null,
   "id": "770e9832-9aa7-421b-b4f5-d537dc0dd26a",
   "metadata": {},
   "outputs": [],
   "source": []
  },
  {
   "cell_type": "markdown",
   "id": "efed42fe-798d-4b68-b347-01f4b160c092",
   "metadata": {},
   "source": [
    "Capture the data-generating params"
   ]
  },
  {
   "cell_type": "code",
   "execution_count": null,
   "id": "f2dda9d4-a04b-46a2-a7bc-cbe1807701e2",
   "metadata": {},
   "outputs": [],
   "source": [
    "true_params = {\n",
    "    'beta_0': sim_data.beta_0[0],\n",
    "    'pct_sex': sim_data.pct_sex[0],\n",
    "    'beta_sex': sim_data.beta_sex[0],\n",
    "    'pct_age': sim_data.pct_age[0],\n",
    "    'beta_age':sim_data.beta_age[0],\n",
    "    'pct_eth': sim_data.pct_eth[0],\n",
    "    'beta_eth':sim_data.beta_eth[0],\n",
    "    'pct_edu': sim_data.pct_edu[0],\n",
    "    'beta_edu':sim_data.beta_edu[0]\n",
    "}\n",
    "true_params"
   ]
  },
  {
   "cell_type": "markdown",
   "id": "cb3e45d3-764d-4b71-b202-8f327cf088ed",
   "metadata": {},
   "source": [
    "Combine the per-strata arrays into a single dataframe to check our work."
   ]
  },
  {
   "cell_type": "code",
   "execution_count": null,
   "id": "5fce76e6-1a62-4c49-bdbc-bd64b497f822",
   "metadata": {
    "scrolled": true
   },
   "outputs": [],
   "source": [
    "y_X_matrix = pd.DataFrame(data={\"pos_tests\": sim_data.pos_tests[0].astype(int),\n",
    "                                \"tests\": sim_data.tests[0].astype(int),\n",
    "                                \"p_sample\": sim_data.p_sample[0],\n",
    "                                \"sex\": sim_data.sex[0].astype(int),\n",
    "                                \"age\": sim_data.age[0].astype(int),\n",
    "                                \"eth\": sim_data.eth[0].astype(int),\n",
    "                                \"edu\": sim_data.edu[0].astype(int)})\n",
    "y_X_matrix.head(20)"
   ]
  },
  {
   "cell_type": "code",
   "execution_count": null,
   "id": "5a8d7c75-0dce-43f3-a1da-9e8265fd14f8",
   "metadata": {
    "scrolled": true
   },
   "outputs": [],
   "source": [
    "y_X_matrix.tail(30)"
   ]
  },
  {
   "cell_type": "markdown",
   "id": "512b7718-2a74-467b-91f7-dd77089e6498",
   "metadata": {},
   "source": [
    "Assemble the data dictionary of all input data for the model which solves the inverse problem - i.e., estimates regression coefficients given the observed data.  We use the generated data as the inputs.  Because the output files are real-valued outputs, regardless of variable element type, model data variables of type int need to be cast to int.  Here all the observed data is count and categorial data."
   ]
  },
  {
   "cell_type": "code",
   "execution_count": null,
   "id": "8b848cfb-94ba-49d4-a12e-e70d3e9b123b",
   "metadata": {},
   "outputs": [],
   "source": [
    "data_4_preds = {'N':sim_data.pos_tests.shape[1], \n",
    "                'N_age':gen_data_dict['N_age'], \n",
    "                'N_eth':gen_data_dict['N_eth'],\n",
    "                'N_edu':gen_data_dict['N_edu'],\n",
    "                'pos_tests':sim_data.pos_tests[0].astype(int),\n",
    "                'tests':sim_data.tests[0].astype(int),\n",
    "                'sex':sim_data.sex[0].astype(int),\n",
    "                'age':sim_data.age[0].astype(int), \n",
    "                'eth':sim_data.eth[0].astype(int),\n",
    "                'edu':sim_data.edu[0].astype(int),\n",
    "                'sens': gen_data_dict['sens'],\n",
    "                'spec': gen_data_dict['spec'],\n",
    "                'intercept_prior_mean': gen_data_dict['baseline'],\n",
    "                'intercept_prior_scale': 2.5}\n",
    "\n",
    "# print(data_4_preds)"
   ]
  },
  {
   "cell_type": "markdown",
   "id": "48d31505-a1d2-472a-ae86-ce72d280f570",
   "metadata": {},
   "source": [
    "## Fit Model 1:  Hard sum-to-zero constraint"
   ]
  },
  {
   "cell_type": "markdown",
   "id": "2083c6a5-32c5-4483-9022-9de30a772339",
   "metadata": {},
   "source": [
    "Run the sampler to get posterior estimates of the model conditioned on the data. "
   ]
  },
  {
   "cell_type": "code",
   "execution_count": null,
   "id": "67995b2d-5447-4629-a2d8-2daa03d08a77",
   "metadata": {
    "scrolled": true
   },
   "outputs": [],
   "source": [
    "binomial_hard_mod = CmdStanModel(stan_file=os.path.join('stan', 'binomial_4preds_hard.stan'))"
   ]
  },
  {
   "cell_type": "code",
   "execution_count": null,
   "id": "b2dd6108-7556-4fec-a90e-121228095cde",
   "metadata": {
    "scrolled": true
   },
   "outputs": [],
   "source": [
    "binomial_hard_fit = binomial_hard_mod.sample(data=data_4_preds, parallel_chains=4)"
   ]
  },
  {
   "cell_type": "markdown",
   "id": "7bb09144-c765-4e6d-b2bf-7badfdb7aa95",
   "metadata": {},
   "source": [
    "Get the summary statistics for all model parameters, transformed parameters, and generated quantities."
   ]
  },
  {
   "cell_type": "code",
   "execution_count": null,
   "id": "903c5cbe-5ba1-48bd-b79b-5727125fb04d",
   "metadata": {},
   "outputs": [],
   "source": [
    "hard_fit_summary = binomial_hard_fit.summary(sig_figs=2)"
   ]
  },
  {
   "cell_type": "markdown",
   "id": "ac008b3b-54cd-4c36-ab50-e211c7ca94ae",
   "metadata": {},
   "source": [
    "Compare data generating value, posterior estimate of the predictor \"sex\"."
   ]
  },
  {
   "cell_type": "code",
   "execution_count": null,
   "id": "9905896c-5058-4c6d-ac18-a40252c42dee",
   "metadata": {},
   "outputs": [],
   "source": [
    "print(\"global intercept\", sim_data.beta_0[0], \"offset sex\", sim_data.beta_sex[0])\n",
    "print(\"per-category observation pcts hardcoded:  0.4, 0.6\")\n",
    "hard_fit_summary.loc[['beta_0', 'beta_sex_raw', 'beta_sex[1]', 'beta_sex[2]']]"
   ]
  },
  {
   "cell_type": "markdown",
   "id": "3f131dd7-710e-46f9-87a5-65ca49d2493e",
   "metadata": {},
   "source": [
    "Compare data generating value, posterior estimate of age"
   ]
  },
  {
   "cell_type": "code",
   "execution_count": null,
   "id": "d2ad2522-a1d1-4155-9bc0-bc25eb5fc531",
   "metadata": {},
   "outputs": [],
   "source": [
    "print(\"true coeffecients age\", sim_data.beta_age[0])\n",
    "print(\"per-category observation pcts\", sim_data.pct_age[0])\n",
    "hard_age_summary = hard_fit_summary.filter(regex=r\"beta_age\\[\\d+\\]\", axis=0)\n",
    "hard_age_summary"
   ]
  },
  {
   "cell_type": "code",
   "execution_count": null,
   "id": "16ff03d6-8684-4809-9be5-d18dec8b72ee",
   "metadata": {},
   "outputs": [],
   "source": [
    "print(\"true coeffecients eth\", sim_data.beta_eth[0])\n",
    "print(\"per-category observation pcts\", sim_data.pct_eth[0])\n",
    "hard_eth_summary = hard_fit_summary.filter(regex=r\"beta_eth\\[\\d+\\]\", axis=0)\n",
    "hard_eth_summary"
   ]
  },
  {
   "cell_type": "code",
   "execution_count": null,
   "id": "4f9ea376-062d-4879-9a59-42a298788c9b",
   "metadata": {},
   "outputs": [],
   "source": [
    "print(\"true coeffecients edu\", sim_data.beta_edu[0])\n",
    "print(\"per-category observation pcts\", sim_data.pct_edu[0])\n",
    "hard_edu_summary = hard_fit_summary.filter(regex=r\"beta_edu\\[\\d+\\]\", axis=0)\n",
    "hard_edu_summary"
   ]
  },
  {
   "cell_type": "markdown",
   "id": "e21ff490-33d3-41a8-a005-cf7887f7eff5",
   "metadata": {},
   "source": [
    "In the generated quantities block of the `binomial_4_preds.stan` model, \n",
    "the variable `y_rep` contains the per-strata estimates of number of pos_tests.\n",
    "Rather than examine the average across all draws, we examine the estimates\n",
    "of a few random draws from the sampler."
   ]
  },
  {
   "cell_type": "code",
   "execution_count": null,
   "id": "4f46976b-a931-47cd-85f4-d5ba651a0589",
   "metadata": {},
   "outputs": [],
   "source": [
    "pos_tests_fitted = binomial_hard_fit.y_rep.astype(int)\n",
    "df_rep_pos_tests = pd.DataFrame(data={'sim_data pos_tests': sim_data.pos_tests[0].astype(int)});\n",
    "for x in range(0,200):\n",
    "    draw = randint(0, 1000);\n",
    "    df_rep_pos_tests['iter ' + str(draw)] =  pos_tests_fitted[draw]"
   ]
  },
  {
   "cell_type": "markdown",
   "id": "9bc1bbf3-879d-457b-9f68-d853d0184f59",
   "metadata": {},
   "source": [
    "Plot generated number of pos_tests, estimated number of pos_tests per poststrat cell."
   ]
  },
  {
   "cell_type": "code",
   "execution_count": null,
   "id": "e82444ce-ae4f-4a7f-922e-970882c1177f",
   "metadata": {},
   "outputs": [],
   "source": [
    "df_long = pd.melt(df_rep_pos_tests, id_vars=['sim_data pos_tests'], var_name='variable', value_name='value')\n",
    "\n",
    "hard_ppc = (p9.ggplot(df_long, p9.aes(x='sim_data pos_tests', y='value')) +\n",
    "     p9.geom_jitter(alpha=0.5, width=0.2) +\n",
    "     p9.geom_abline(intercept=0, slope=1, color='lightblue', linetype='--') +\n",
    "#     p9.facet_wrap('~ variable', scales='free_y', ncol=2) +\n",
    "     p9.labs(x='pos_tests (observed)', y='Posterior estiimates (200 draws)', title='Hard sum-to-zero constraint\\nPosterior Predictive Check') +\n",
    "     p9.theme(figure_size=(8,8)) +\n",
    "     p9.scale_x_continuous(breaks=range(0, 51, 5)) +\n",
    "     p9.scale_y_continuous(breaks=range(0, 51, 5))                           \n",
    "    )\n",
    "hard_ppc"
   ]
  },
  {
   "cell_type": "markdown",
   "id": "e95125c3-e641-434f-bc39-ca7651de84d6",
   "metadata": {},
   "source": [
    "***Takeaway:   the model is close enough on recovering the true parameters so that PPC check seems reasonable..***"
   ]
  },
  {
   "cell_type": "markdown",
   "id": "819c30d8-2ce2-4705-8e9a-d22715f6bc01",
   "metadata": {},
   "source": [
    "## Fit model 2:  `sum_to_zero_vector`"
   ]
  },
  {
   "cell_type": "code",
   "execution_count": null,
   "id": "0223ef6b-7554-4e0d-a7e5-652ecdca6b7a",
   "metadata": {},
   "outputs": [],
   "source": [
    "binomial_frazier_mod = CmdStanModel(stan_file=os.path.join('stan', 'binomial_4preds_frazier.stan'))"
   ]
  },
  {
   "cell_type": "code",
   "execution_count": null,
   "id": "ef5e8a23-ae55-4f5e-a766-93f74e3c6a23",
   "metadata": {},
   "outputs": [],
   "source": [
    "binomial_frazier_fit = binomial_frazier_mod.sample(data=data_4_preds, parallel_chains=4)"
   ]
  },
  {
   "cell_type": "code",
   "execution_count": null,
   "id": "198f537d-7ef5-41b2-981b-b5ba9135c956",
   "metadata": {},
   "outputs": [],
   "source": [
    "# print(binomial_frazier_fit.diagnose())"
   ]
  },
  {
   "cell_type": "code",
   "execution_count": null,
   "id": "8be124ae-0746-4edb-a1ec-16ef90c33696",
   "metadata": {},
   "outputs": [],
   "source": [
    "frazier_fit_summary = binomial_frazier_fit.summary(sig_figs=2)"
   ]
  },
  {
   "cell_type": "code",
   "execution_count": null,
   "id": "7c5a767b-8202-4f5f-a970-cd91afbb5fa6",
   "metadata": {},
   "outputs": [],
   "source": [
    "print(\"global intercept\", sim_data.beta_0[0], \"offset sex\", sim_data.beta_sex[0])\n",
    "print(\"per-category observation pcts hardcoded:  0.4, 0.6\")\n",
    "frazier_fit_summary.loc[['beta_intercept', 'beta_0', 'beta_sex']]"
   ]
  },
  {
   "cell_type": "code",
   "execution_count": null,
   "id": "ade36af7-4641-48e2-916e-737b4d631db9",
   "metadata": {},
   "outputs": [],
   "source": [
    "hard_fit_summary.loc[['beta_0', 'beta_sex[1]', 'beta_sex[2]']]"
   ]
  },
  {
   "cell_type": "code",
   "execution_count": null,
   "id": "75b1e831-f715-4ca9-87d3-207cb0544521",
   "metadata": {},
   "outputs": [],
   "source": [
    "print(\"true coeffecients age\", sim_data.beta_age[0])\n",
    "print(\"per-category observation pcts\", sim_data.pct_age[0])\n",
    "frazier_age_summary = frazier_fit_summary.filter(regex=r\"beta_age\\[\\d+\\]\", axis=0)\n",
    "frazier_age_summary"
   ]
  },
  {
   "cell_type": "code",
   "execution_count": null,
   "id": "409f701a-3df4-40b0-8676-babed9bc15cb",
   "metadata": {},
   "outputs": [],
   "source": [
    "hard_age_summary"
   ]
  },
  {
   "cell_type": "code",
   "execution_count": null,
   "id": "d05e8f77-a5b7-42f8-8985-219cc6b6f334",
   "metadata": {},
   "outputs": [],
   "source": [
    "print(\"true coeffecients eth\", sim_data.beta_eth[0])\n",
    "print(\"per-category observation pcts\", sim_data.pct_eth[0])\n",
    "frazier_eth_summary = frazier_fit_summary.filter(regex=r\"beta_eth\\[\\d+\\]\", axis=0)\n",
    "frazier_eth_summary"
   ]
  },
  {
   "cell_type": "code",
   "execution_count": null,
   "id": "83cda3ca-7ed1-496d-9e88-293bcac4547b",
   "metadata": {},
   "outputs": [],
   "source": [
    "hard_eth_summary"
   ]
  },
  {
   "cell_type": "code",
   "execution_count": null,
   "id": "74aac4f5-fab8-4880-a371-274a932f13aa",
   "metadata": {},
   "outputs": [],
   "source": [
    "print(\"true coeffecients edu\", sim_data.beta_edu[0])\n",
    "print(\"per-category observation pcts\", sim_data.pct_edu[0])\n",
    "frazier_edu_summary = frazier_fit_summary.filter(regex=r\"beta_edu\\[\\d+\\]\", axis=0)\n",
    "frazier_edu_summary"
   ]
  },
  {
   "cell_type": "code",
   "execution_count": null,
   "id": "374d4e7c-8ba3-4177-bb59-85ab4de4d71f",
   "metadata": {},
   "outputs": [],
   "source": [
    "hard_edu_summary"
   ]
  },
  {
   "cell_type": "code",
   "execution_count": null,
   "id": "98b9bf4c-c5da-44e0-98e2-24cdcb410603",
   "metadata": {},
   "outputs": [],
   "source": [
    "pos_tests_fitted = binomial_frazier_fit.y_rep.astype(int)\n",
    "df_rep_pos_tests = pd.DataFrame(data={'sim_data pos_tests': sim_data.pos_tests[0].astype(int)});\n",
    "for x in range(0,4):\n",
    "    draw = randint(0, 500);\n",
    "    df_rep_pos_tests['iter ' + str(draw)] =  pos_tests_fitted[draw]\n",
    "df_rep_pos_tests"
   ]
  },
  {
   "cell_type": "code",
   "execution_count": null,
   "id": "6133541b-ab6c-4f2c-a966-4540467ec6f2",
   "metadata": {},
   "outputs": [],
   "source": [
    "df_long = pd.melt(df_rep_pos_tests, id_vars=['sim_data pos_tests'], var_name='variable', value_name='value')\n",
    "\n",
    "frazier_ppc = (p9.ggplot(df_long, p9.aes(x='sim_data pos_tests', y='value')) +\n",
    "     p9.geom_point() +\n",
    "     p9.facet_wrap('~ variable', scales='free_y', ncol=2) +\n",
    "     p9.labs(x='pos_tests (simulated)', y='Posterior estiimates', title='Sum-to-zero vector\\nPosterior Predictive Check') +\n",
    "     p9.theme(figure_size=(10,8))\n",
    "    )\n",
    "frazier_ppc"
   ]
  },
  {
   "cell_type": "code",
   "execution_count": null,
   "id": "97d7a63a-6015-442c-ad98-1c4dbc184f00",
   "metadata": {},
   "outputs": [],
   "source": [
    "hard_ppc"
   ]
  }
 ],
 "metadata": {
  "kernelspec": {
   "display_name": "Python 3 (ipykernel)",
   "language": "python",
   "name": "python3"
  },
  "language_info": {
   "codemirror_mode": {
    "name": "ipython",
    "version": 3
   },
   "file_extension": ".py",
   "mimetype": "text/x-python",
   "name": "python",
   "nbconvert_exporter": "python",
   "pygments_lexer": "ipython3",
   "version": "3.12.2"
  }
 },
 "nbformat": 4,
 "nbformat_minor": 5
}
