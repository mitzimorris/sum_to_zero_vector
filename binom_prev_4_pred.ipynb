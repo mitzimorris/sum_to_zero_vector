{
 "cells": [
  {
   "cell_type": "markdown",
   "metadata": {},
   "source": [
    "# Sum to zero comparison, multi-level binomial model, 4 categorical predictors, predictors have per-category intercept."
   ]
  },
  {
   "cell_type": "code",
   "execution_count": null,
   "metadata": {},
   "outputs": [],
   "source": [
    "import os\n",
    "import numpy as np\n",
    "import pandas as pd\n",
    "import matplotlib.pyplot as plt\n",
    "import plotnine as p9\n",
    "from random import randint\n",
    "\n",
    "from cmdstanpy import CmdStanModel, write_stan_json, install_cmdstan, rebuild_cmdstan\n",
    "from utils_dataviz import ppc_density_plot"
   ]
  },
  {
   "cell_type": "code",
   "execution_count": null,
   "metadata": {},
   "outputs": [],
   "source": [
    "# notebook display options\n",
    "np.set_printoptions(precision=2)\n",
    "np.set_printoptions(suppress=True)\n",
    "pd.set_option('display.precision', 2)\n",
    "pd.options.display.float_format = '{:.2f}'.format\n",
    "\n",
    "# suppress plotnine warnings\n",
    "import warnings\n",
    "warnings.filterwarnings('ignore')\n",
    "# setup plotnine look and feel\n",
    "p9.theme_set(\n",
    "  p9.theme_grey() + \n",
    "  p9.theme(text=p9.element_text(size=10),\n",
    "        plot_title=p9.element_text(size=14),\n",
    "        axis_title_x=p9.element_text(size=12),\n",
    "        axis_title_y=p9.element_text(size=12),\n",
    "        axis_text_x=p9.element_text(size=8),\n",
    "        axis_text_y=p9.element_text(size=8)\n",
    "       )\n",
    ")\n",
    "xlabels_90 = p9.theme(axis_text_x = p9.element_text(angle=90, hjust=1))"
   ]
  },
  {
   "cell_type": "markdown",
   "metadata": {},
   "source": [
    "## Overview\n",
    "\n",
    "In this notebook we develop a model which estimates per-demographic rates of disease prevalence for a population given the binary outcome of a diagnostic test procedure with a specified sensitivity and specificity, and a set of categorical predictors.   Here these are given the names sex, age, eth, and edu for verisimilitude, where sex is a binary-encoded variable and the other categories have > 2 possible values.\n",
    "\n",
    "In order to fit this model, we need to put a sum-to-zero constraint on the categorical variables.   In the following sections we first generate a dataset, then compare the fits obtained via different implementations of the sum-to-zero constraint.\n",
    "\n",
    "## The data generating model\n",
    "\n",
    "In order to easily generate multiple datasets with different characteristics, the data generating model requires the user to specify the total number of tests performed, and the number of categories for age, ethnicity, and education.  The total number of sub-populations is the product of the number of categories per predictor.\n",
    "\n",
    "The binomial model \n",
    "\n",
    "```\n",
    "data {\n",
    "  int<lower=1> N;  // total number of tests\n",
    "  int<lower=1> N_age;\n",
    "  int<lower=1> N_eth;\n",
    "  int<lower=1> N_edu;\n",
    "  real baseline;\n",
    "  real<lower=0, upper=1> sens;\n",
    "  real<lower=0, upper=1> spec;\n",
    "}\n",
    "transformed data {\n",
    "  int strata = 2 * N_age * N_eth * N_edu;\n",
    "\n",
    "}\n",
    "```\n",
    "\n",
    "Instantiate the data generating model.\n"
   ]
  },
  {
   "cell_type": "code",
   "execution_count": null,
   "metadata": {},
   "outputs": [],
   "source": [
    "gen_mod = CmdStanModel(stan_file=os.path.join('stan', \n",
    "                                              'gen_binomial_4_preds.stan'))"
   ]
  },
  {
   "cell_type": "markdown",
   "metadata": {},
   "source": [
    "Choose total number of observations and number of categories for age, eth, and edu.\n"
   ]
  },
  {
   "cell_type": "code",
   "execution_count": null,
   "metadata": {},
   "outputs": [],
   "source": [
    "gen_data_dict = {'N':90_000,\n",
    "                 'N_age':7,\n",
    "                 'N_eth':3,\n",
    "                 'N_edu':5,\n",
    "                'baseline': -4.9,\n",
    "                'sens': 0.75,\n",
    "                'spec': 0.9995}\n",
    "print(\"total strata\",\n",
    "      (2 * gen_data_dict['N_age'] * gen_data_dict['N_eth'] * gen_data_dict['N_edu']))"
   ]
  },
  {
   "cell_type": "markdown",
   "metadata": {},
   "source": [
    "Only need to run for 1 sampling iteration to get a complete dataset.\n"
   ]
  },
  {
   "cell_type": "code",
   "execution_count": null,
   "metadata": {},
   "outputs": [],
   "source": [
    "sim_data = gen_mod.sample(data=gen_data_dict,\n",
    "                          iter_warmup=1, iter_sampling=1, chains=1)"
   ]
  },
  {
   "cell_type": "markdown",
   "metadata": {},
   "source": [
    "Examine the set of generated data-generating params and resulting dataset.\n"
   ]
  },
  {
   "cell_type": "code",
   "execution_count": null,
   "metadata": {},
   "outputs": [],
   "source": [
    "for var, value in sim_data.stan_variables().items():\n",
    "    print(var, value[0])  # draws array contains single draw"
   ]
  },
  {
   "cell_type": "code",
   "execution_count": null,
   "metadata": {},
   "outputs": [],
   "source": [
    "sim_df = pd.DataFrame({'tests':sim_data.tests[0], 'pos_tests':sim_data.pos_tests[0], 'p_sample':sim_data.p_sample[0] })\n",
    "sim_df['raw_prev'] = sim_df['pos_tests'] / sim_df['tests']\n",
    "(\n",
    "    p9.ggplot(sim_df, p9.aes(x='p_sample'))\n",
    "    + p9.geom_density(color='black', fill='lightblue')\n",
    "    + p9.labs(\n",
    "        x='true prevalance',\n",
    "        y='',\n",
    "        title='raw prevalence given test sensitivity, specificity across demographics'\n",
    "    )\n",
    "    + p9.theme_minimal()\n",
    ")"
   ]
  },
  {
   "cell_type": "markdown",
   "metadata": {},
   "source": [
    "Capture the data-generating params\n"
   ]
  },
  {
   "cell_type": "code",
   "execution_count": null,
   "metadata": {},
   "outputs": [],
   "source": [
    "true_params = {\n",
    "    'beta_0': sim_data.beta_0[0],\n",
    "    'pct_sex': sim_data.pct_sex[0],\n",
    "    'beta_sex': sim_data.beta_sex[0],\n",
    "    'pct_age': sim_data.pct_age[0],\n",
    "    'beta_age':sim_data.beta_age[0],\n",
    "    'pct_eth': sim_data.pct_eth[0],\n",
    "    'beta_eth':sim_data.beta_eth[0],\n",
    "    'pct_edu': sim_data.pct_edu[0],\n",
    "    'beta_edu':sim_data.beta_edu[0]\n",
    "}\n",
    "true_params"
   ]
  },
  {
   "cell_type": "markdown",
   "metadata": {},
   "source": [
    "Combine the per-strata arrays into a single dataframe to check our work.\n"
   ]
  },
  {
   "cell_type": "code",
   "execution_count": null,
   "metadata": {},
   "outputs": [],
   "source": [
    "y_X_matrix = pd.DataFrame(data={\"pos_tests\": sim_data.pos_tests[0].astype(int),\n",
    "                                \"tests\": sim_data.tests[0].astype(int),\n",
    "                                \"p_sample\": sim_data.p_sample[0],\n",
    "                                \"sex\": sim_data.sex[0].astype(int),\n",
    "                                \"age\": sim_data.age[0].astype(int),\n",
    "                                \"eth\": sim_data.eth[0].astype(int),\n",
    "                                \"edu\": sim_data.edu[0].astype(int)})\n",
    "y_X_matrix.head(20)"
   ]
  },
  {
   "cell_type": "code",
   "execution_count": null,
   "metadata": {},
   "outputs": [],
   "source": [
    "y_X_matrix.tail(30)"
   ]
  },
  {
   "cell_type": "markdown",
   "metadata": {},
   "source": [
    "Assemble the data dictionary of all input data for the model which solves the inverse problem - i.e., estimates regression coefficients given the observed data.  We use the generated data as the inputs.  Because the output files are real-valued outputs, regardless of variable element type, model data variables of type int need to be cast to int.  Here all the observed data is count and categorial data.\n"
   ]
  },
  {
   "cell_type": "code",
   "execution_count": null,
   "metadata": {},
   "outputs": [],
   "source": [
    "data_4_preds = {'N':sim_data.pos_tests.shape[1], \n",
    "                'N_age':gen_data_dict['N_age'], \n",
    "                'N_eth':gen_data_dict['N_eth'],\n",
    "                'N_edu':gen_data_dict['N_edu'],\n",
    "                'pos_tests':sim_data.pos_tests[0].astype(int),\n",
    "                'tests':sim_data.tests[0].astype(int),\n",
    "                'sex':sim_data.sex[0].astype(int),\n",
    "                'age':sim_data.age[0].astype(int), \n",
    "                'eth':sim_data.eth[0].astype(int),\n",
    "                'edu':sim_data.edu[0].astype(int),\n",
    "                'sens': gen_data_dict['sens'],\n",
    "                'spec': gen_data_dict['spec'],\n",
    "                'intercept_prior_mean': gen_data_dict['baseline'],\n",
    "                'intercept_prior_scale': 2.5}\n",
    "\n",
    "# print(data_4_preds)"
   ]
  },
  {
   "cell_type": "markdown",
   "metadata": {},
   "source": [
    "## Fit Model 1:  Hard sum-to-zero constraint\n",
    "\n",
    "Run the sampler to get posterior estimates of the model conditioned on the data. \n"
   ]
  },
  {
   "cell_type": "code",
   "execution_count": null,
   "metadata": {},
   "outputs": [],
   "source": [
    "binomial_hard_mod = CmdStanModel(stan_file=os.path.join('stan', 'binomial_4preds_hard.stan'))"
   ]
  },
  {
   "cell_type": "code",
   "execution_count": null,
   "metadata": {},
   "outputs": [],
   "source": [
    "binomial_hard_fit = binomial_hard_mod.sample(data=data_4_preds, parallel_chains=4)"
   ]
  },
  {
   "cell_type": "code",
   "execution_count": null,
   "metadata": {},
   "outputs": [],
   "source": [
    "print(binomial_hard_fit.diagnose())"
   ]
  },
  {
   "cell_type": "markdown",
   "metadata": {},
   "source": [
    "Get the summary statistics for all model parameters, transformed parameters, and generated quantities.\n"
   ]
  },
  {
   "cell_type": "code",
   "execution_count": null,
   "metadata": {},
   "outputs": [],
   "source": [
    "hard_fit_summary = binomial_hard_fit.summary(sig_figs=2)"
   ]
  },
  {
   "cell_type": "markdown",
   "metadata": {},
   "source": [
    "Compare data generating value, posterior estimate of the predictor \"sex\".\n"
   ]
  },
  {
   "cell_type": "code",
   "execution_count": null,
   "metadata": {},
   "outputs": [],
   "source": [
    "print(\"global intercept\", sim_data.beta_0[0], \"offset sex\", sim_data.beta_sex[0])\n",
    "print(\"per-category observation pcts hardcoded:  0.4, 0.6\")\n",
    "hard_fit_summary.loc[['beta_0', 'beta_sex_raw', 'beta_sex[1]', 'beta_sex[2]']]"
   ]
  },
  {
   "cell_type": "code",
   "execution_count": null,
   "metadata": {},
   "outputs": [],
   "source": [
    "hard_age_summary = hard_fit_summary.filter(regex=r\"\\.*_age\", axis=0)\n",
    "hard_eth_summary = hard_fit_summary.filter(regex=r\"\\.*_eth\", axis=0)\n",
    "hard_edu_summary = hard_fit_summary.filter(regex=r\"\\.*_edu\", axis=0)"
   ]
  },
  {
   "cell_type": "markdown",
   "metadata": {},
   "source": [
    "## Fit model 2:  soft sum-to-zero constraint"
   ]
  },
  {
   "cell_type": "code",
   "execution_count": null,
   "metadata": {},
   "outputs": [],
   "source": [
    "binomial_soft_mod = CmdStanModel(stan_file=os.path.join('stan', 'binomial_4preds_soft.stan'))"
   ]
  },
  {
   "cell_type": "code",
   "execution_count": null,
   "metadata": {},
   "outputs": [],
   "source": [
    "binomial_soft_fit = binomial_soft_mod.sample(data=data_4_preds, parallel_chains=4)"
   ]
  },
  {
   "cell_type": "code",
   "execution_count": null,
   "metadata": {},
   "outputs": [],
   "source": [
    "print(binomial_soft_fit.diagnose())"
   ]
  },
  {
   "cell_type": "code",
   "execution_count": null,
   "metadata": {},
   "outputs": [],
   "source": [
    "soft_fit_summary = binomial_soft_fit.summary(sig_figs=2)"
   ]
  },
  {
   "cell_type": "code",
   "execution_count": null,
   "metadata": {},
   "outputs": [],
   "source": [
    "print(\"global intercept\", sim_data.beta_0[0], \"offset sex\", sim_data.beta_sex[0])\n",
    "print(\"per-category observation pcts hardcoded:  0.4, 0.6\")\n",
    "soft_fit_summary.loc[['beta_0', 'beta_intercept', 'beta_sex']]"
   ]
  },
  {
   "cell_type": "code",
   "execution_count": null,
   "metadata": {},
   "outputs": [],
   "source": [
    "soft_age_summary = soft_fit_summary.filter(regex=r\"\\.*_age\", axis=0)\n",
    "soft_eth_summary = soft_fit_summary.filter(regex=r\"\\.*_eth\", axis=0)\n",
    "soft_edu_summary = soft_fit_summary.filter(regex=r\"\\.*_edu\", axis=0)"
   ]
  },
  {
   "cell_type": "code",
   "execution_count": null,
   "metadata": {},
   "outputs": [],
   "source": [
    "# plot the distribution of the actual data against a random sample of replicates. We plot 2% of the data - 80 replicates out of 4000.\n",
    "yrep_soft_pd = binomial_soft_fit.draws_pd(vars='y_rep')\n",
    "ppc_plot_soft = ppc_density_plot(sim_df, yrep_soft_pd, 1000, 'PPC soft Sum-to-zero', 'sim data dark blue, y_rep sample light blue')\n",
    "ppc_plot_soft"
   ]
  },
  {
   "cell_type": "markdown",
   "metadata": {},
   "source": [
    "## Fit model 3:  `sum_to_zero_vector`\n"
   ]
  },
  {
   "cell_type": "code",
   "execution_count": null,
   "metadata": {},
   "outputs": [],
   "source": [
    "binomial_ilr_mod = CmdStanModel(stan_file=os.path.join('stan', 'binomial_4preds_ilr.stan'))"
   ]
  },
  {
   "cell_type": "code",
   "execution_count": null,
   "metadata": {},
   "outputs": [],
   "source": [
    "binomial_ilr_fit = binomial_ilr_mod.sample(data=data_4_preds, parallel_chains=4)"
   ]
  },
  {
   "cell_type": "code",
   "execution_count": null,
   "metadata": {},
   "outputs": [],
   "source": [
    "print(binomial_ilr_fit.diagnose())"
   ]
  },
  {
   "cell_type": "code",
   "execution_count": null,
   "metadata": {},
   "outputs": [],
   "source": [
    "ilr_fit_summary = binomial_ilr_fit.summary(sig_figs=2)"
   ]
  },
  {
   "cell_type": "markdown",
   "metadata": {},
   "source": [
    "## Compare fits\n",
    "\n",
    "**Global intercept**\n",
    "\n",
    "* the hard-sum-to-zero model codes the global intercept as `beta_0`.\n",
    "* the soft-sum-to-zero model 0-centers the binary predictor `sex`; `beta_intercept` accounts for this centering.\n"
   ]
  },
  {
   "cell_type": "code",
   "execution_count": null,
   "metadata": {},
   "outputs": [],
   "source": [
    "print(\"global intercept\", sim_data.beta_0[0])\n",
    "ilr_fit_summary.loc[['beta_intercept', 'beta_0']]"
   ]
  },
  {
   "cell_type": "code",
   "execution_count": null,
   "metadata": {},
   "outputs": [],
   "source": [
    "hard_fit_summary.loc[['beta_0']]"
   ]
  },
  {
   "cell_type": "code",
   "execution_count": null,
   "metadata": {},
   "outputs": [],
   "source": [
    "soft_fit_summary.loc[['beta_intercept', 'beta_0']]"
   ]
  },
  {
   "cell_type": "markdown",
   "metadata": {},
   "source": [
    "**Sex**\n",
    "\n",
    "* the ilr model recodes the X matrix column `sex` as a zero-centered vector which is used to estimate `beta_sex`.\n",
    "* the hard-sum-to-zero model codes `sex` as parameter `beta_sex_raw`, and in the transformed parameter block, defined `beta_sex[1]`, `beta_sex[2]`:\n",
    "\n",
    "```stan\n",
    "vector[2] beta_sex = [beta_sex_raw, -beta_sex_raw]';\n",
    "```\n"
   ]
  },
  {
   "cell_type": "code",
   "execution_count": null,
   "metadata": {},
   "outputs": [],
   "source": [
    "print(\"coefficient sex\", sim_data.beta_sex[0])\n",
    "print(\"per-category observation pcts hardcoded:  0.4, 0.6\")\n",
    "ilr_fit_summary.loc[['beta_sex']]"
   ]
  },
  {
   "cell_type": "code",
   "execution_count": null,
   "metadata": {},
   "outputs": [],
   "source": [
    "hard_fit_summary.loc[['beta_sex_raw', 'beta_sex[1]', 'beta_sex[2]']]"
   ]
  },
  {
   "cell_type": "code",
   "execution_count": null,
   "metadata": {},
   "outputs": [],
   "source": [
    "soft_fit_summary.loc[['beta_sex']]"
   ]
  },
  {
   "cell_type": "markdown",
   "metadata": {},
   "source": [
    "**Age**\n"
   ]
  },
  {
   "cell_type": "code",
   "execution_count": null,
   "metadata": {},
   "outputs": [],
   "source": [
    "print(\"true coeffecients age\", sim_data.beta_age[0])\n",
    "print(\"per-category observation pcts\", sim_data.pct_age[0])\n",
    "ilr_age_summary = ilr_fit_summary.filter(regex=r\"\\.*_age\", axis=0)\n",
    "ilr_age_summary"
   ]
  },
  {
   "cell_type": "code",
   "execution_count": null,
   "metadata": {},
   "outputs": [],
   "source": [
    "hard_age_summary"
   ]
  },
  {
   "cell_type": "code",
   "execution_count": null,
   "metadata": {},
   "outputs": [],
   "source": [
    "soft_age_summary"
   ]
  },
  {
   "cell_type": "markdown",
   "metadata": {},
   "source": [
    "**Eth**\n"
   ]
  },
  {
   "cell_type": "code",
   "execution_count": null,
   "metadata": {},
   "outputs": [],
   "source": [
    "print(\"true coeffecients eth\", sim_data.beta_eth[0])\n",
    "print(\"per-category observation pcts\", sim_data.pct_eth[0])\n",
    "ilr_eth_summary = ilr_fit_summary.filter(regex=r\"\\.*_eth\", axis=0)\n",
    "ilr_eth_summary"
   ]
  },
  {
   "cell_type": "code",
   "execution_count": null,
   "metadata": {},
   "outputs": [],
   "source": [
    "hard_eth_summary"
   ]
  },
  {
   "cell_type": "code",
   "execution_count": null,
   "metadata": {},
   "outputs": [],
   "source": [
    "soft_eth_summary"
   ]
  },
  {
   "cell_type": "markdown",
   "metadata": {},
   "source": [
    "**Edu**\n"
   ]
  },
  {
   "cell_type": "code",
   "execution_count": null,
   "metadata": {},
   "outputs": [],
   "source": [
    "print(\"true coeffecients edu\", sim_data.beta_edu[0])\n",
    "print(\"per-category observation pcts\", sim_data.pct_edu[0])\n",
    "ilr_edu_summary = ilr_fit_summary.filter(regex=r\"\\.*_edu\", axis=0)\n",
    "ilr_edu_summary"
   ]
  },
  {
   "cell_type": "code",
   "execution_count": null,
   "metadata": {},
   "outputs": [],
   "source": [
    "hard_edu_summary"
   ]
  },
  {
   "cell_type": "code",
   "execution_count": null,
   "metadata": {},
   "outputs": [],
   "source": [
    "soft_edu_summary"
   ]
  },
  {
   "cell_type": "code",
   "execution_count": null,
   "metadata": {},
   "outputs": [],
   "source": [
    "y_rep_ilr = binomial_ilr_fit.y_rep.astype(int)\n",
    "obs_vs_rep_ilr_df = pd.DataFrame(data={'sim_data pos_tests': sim_data.pos_tests[0].astype(int)});\n",
    "for x in range(0,100):\n",
    "    draw = randint(0, 1000);\n",
    "    obs_vs_rep_ilr_df['iter ' + str(draw)] =  y_rep_ilr[draw]\n",
    "# obs_vs_rep_ilr_df\n",
    "\n",
    "obs_vs_rep_ilr_long = pd.melt(obs_vs_rep_ilr_df, id_vars=['sim_data pos_tests'], var_name='variable', value_name='value')\n",
    "\n",
    "ilr_ppc = (p9.ggplot(obs_vs_rep_ilr_long, p9.aes(x='sim_data pos_tests', y='value')) +\n",
    "    p9.geom_jitter(alpha=0.3, color='darkblue') +\n",
    "    p9.geom_abline(color='orange') +\n",
    "    p9.labs(x='pos_tests (simulated)', y='Posterior estiimates', title='Sum-to-zero vector\\nPosterior Predictive Check') +\n",
    "    p9.theme(figure_size=(10,10))\n",
    "    )\n",
    "ilr_ppc"
   ]
  },
  {
   "cell_type": "code",
   "execution_count": null,
   "metadata": {},
   "outputs": [],
   "source": [
    "# plot the distribution of the actual data against a random sample of replicates.\n",
    "yrep_ilr_pd = binomial_ilr_fit.draws_pd(vars='y_rep')\n",
    "\n",
    "ppc_plot_ilr = ppc_density_plot(sim_df, yrep_ilr_pd, 160, 'PPC sum_to_zero_vector', 'sim data dark blue, y_rep sample light blue')\n",
    "ppc_plot_ilr"
   ]
  }
 ],
 "metadata": {
  "kernelspec": {
   "display_name": "Python 3 (ipykernel)",
   "language": "python",
   "name": "python3"
  },
  "language_info": {
   "codemirror_mode": {
    "name": "ipython",
    "version": 3
   },
   "file_extension": ".py",
   "mimetype": "text/x-python",
   "name": "python",
   "nbconvert_exporter": "python",
   "pygments_lexer": "ipython3",
   "version": "3.12.2"
  }
 },
 "nbformat": 4,
 "nbformat_minor": 4
}
